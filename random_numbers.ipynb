{
 "cells": [
  {
   "cell_type": "code",
   "execution_count": 1,
   "id": "4c73d3dc",
   "metadata": {},
   "outputs": [],
   "source": [
    "#Import the random module\n",
    "import random"
   ]
  },
  {
   "cell_type": "code",
   "execution_count": 2,
   "id": "98265db2",
   "metadata": {},
   "outputs": [
    {
     "data": {
      "text/plain": [
       "-80"
      ]
     },
     "execution_count": 2,
     "metadata": {},
     "output_type": "execute_result"
    }
   ],
   "source": [
    "#randint()function will only return one integer\n",
    "random.randint(-90,90)"
   ]
  },
  {
   "cell_type": "code",
   "execution_count": 3,
   "id": "b3233ccb",
   "metadata": {},
   "outputs": [
    {
     "data": {
      "text/plain": [
       "0.9470503575292774"
      ]
     },
     "execution_count": 3,
     "metadata": {},
     "output_type": "execute_result"
    }
   ],
   "source": [
    "#random()function returns only a floating-point decimal number between 0 and 1.0.\n",
    "random.random()"
   ]
  },
  {
   "cell_type": "code",
   "execution_count": 4,
   "id": "bf5e7abd",
   "metadata": {},
   "outputs": [
    {
     "data": {
      "text/plain": [
       "34.7237240891662"
      ]
     },
     "execution_count": 4,
     "metadata": {},
     "output_type": "execute_result"
    }
   ],
   "source": [
    "#If we combine random.randint(-90, 89) and random.random() to generate a floating-point decimal between –90 and 90, we can generate a random latitude\n",
    "random_number = random.randint(-90,89) + random.random()\n",
    "random_number"
   ]
  },
  {
   "cell_type": "code",
   "execution_count": 5,
   "id": "d9aae6f1",
   "metadata": {},
   "outputs": [
    {
     "data": {
      "text/plain": [
       "[-10.503922075928,\n",
       " -76.06244853401766,\n",
       " -61.54436656427031,\n",
       " 88.88046110290882,\n",
       " -6.103343308995588,\n",
       " 25.336593704180544,\n",
       " -41.34140452728535,\n",
       " -0.5033053496383537,\n",
       " 24.280840944131654,\n",
       " 49.998004770620106]"
      ]
     },
     "execution_count": 5,
     "metadata": {},
     "output_type": "execute_result"
    }
   ],
   "source": [
    "#A small sample of what it might take to generate ten random floating-point decimal latitudes between –90 and 89.\n",
    "x = 1\n",
    "latitudes = []\n",
    "while x < 11: \n",
    "    random_lat = random.randint(-90,89) + random.random()\n",
    "    latitudes.append(random_lat)\n",
    "    x += 1\n",
    "    \n",
    "latitudes"
   ]
  },
  {
   "cell_type": "code",
   "execution_count": 6,
   "id": "6e4193e0",
   "metadata": {},
   "outputs": [
    {
     "data": {
      "text/plain": [
       "-76"
      ]
     },
     "execution_count": 6,
     "metadata": {},
     "output_type": "execute_result"
    }
   ],
   "source": [
    "#This function is different than the other two, it has upper and lower limit and a step parameter(set it to an int).\n",
    "random.randrange(-90,90,step=1)\n"
   ]
  },
  {
   "cell_type": "code",
   "execution_count": 7,
   "id": "bf4945bc",
   "metadata": {},
   "outputs": [
    {
     "data": {
      "text/plain": [
       "-48"
      ]
     },
     "execution_count": 7,
     "metadata": {},
     "output_type": "execute_result"
    }
   ],
   "source": [
    "random.randrange(-90,90,step=3)"
   ]
  },
  {
   "cell_type": "code",
   "execution_count": 8,
   "id": "48786584",
   "metadata": {},
   "outputs": [
    {
     "data": {
      "text/plain": [
       "-31.425431785666774"
      ]
     },
     "execution_count": 8,
     "metadata": {},
     "output_type": "execute_result"
    }
   ],
   "source": [
    "#The uniform() function will allow us to generate a floating-point decimal number between two given numbers inside the parentheses.\n",
    "random.uniform(-90,90)"
   ]
  },
  {
   "cell_type": "code",
   "execution_count": 9,
   "id": "a94c93f1",
   "metadata": {},
   "outputs": [],
   "source": [
    "import numpy as np"
   ]
  },
  {
   "cell_type": "code",
   "execution_count": 10,
   "id": "4d9ad9ab",
   "metadata": {},
   "outputs": [
    {
     "data": {
      "text/plain": [
       "52.950821176562584"
      ]
     },
     "execution_count": 10,
     "metadata": {},
     "output_type": "execute_result"
    }
   ],
   "source": [
    "np.random.uniform(low= -90,high= 90)"
   ]
  },
  {
   "cell_type": "code",
   "execution_count": 11,
   "id": "528599eb",
   "metadata": {},
   "outputs": [
    {
     "data": {
      "text/plain": [
       "array([ 15.87786016,  31.64999851, -42.66860347,  51.64669838,\n",
       "       -36.88139125, -84.52314717, -84.38468417,  71.21595342,\n",
       "        62.00612813, -76.99907718,  23.30418606,  45.06150425,\n",
       "       -45.48997798, -84.67964589, -63.41198797,  48.77201099,\n",
       "         5.24998091,   0.52932064,  52.24790858,  27.54878764,\n",
       "       -85.54391538, -30.66681787,  79.51494375,   0.4251761 ,\n",
       "        88.98610244, -80.55229324,  87.73026443,  11.34321593,\n",
       "        -5.469946  , -26.82592084, -74.42755685, -73.86310131,\n",
       "        -1.06077658, -79.70601357, -69.57617424,  62.00115705,\n",
       "        66.81267744,  37.82651249,  75.2292815 , -27.93000306,\n",
       "       -10.62879351,  67.39916545, -79.67194706,  63.56677442,\n",
       "        87.50305639, -64.07126641, -29.40307885,  36.31928025,\n",
       "       -84.75269378, -58.296528  ])"
      ]
     },
     "execution_count": 11,
     "metadata": {},
     "output_type": "execute_result"
    }
   ],
   "source": [
    "#To generate more than one floating-point decimal number between –90 and 90, \n",
    "#we can add the size parameter when we use the NumPy module and set that equal to any whole number.\n",
    "np.random.uniform(low= -90,high= 90, size=50)"
   ]
  },
  {
   "cell_type": "code",
   "execution_count": 12,
   "id": "2d97653e",
   "metadata": {},
   "outputs": [],
   "source": [
    "#To test how long a piece of code or function takes to run, we can import the \"timeit\" module\n",
    "#import timeit\n",
    "import timeit"
   ]
  },
  {
   "cell_type": "code",
   "execution_count": 13,
   "id": "0c454342",
   "metadata": {},
   "outputs": [
    {
     "name": "stdout",
     "output_type": "stream",
     "text": [
      "12.4 µs ± 8.24 ns per loop (mean ± std. dev. of 7 runs, 100000 loops each)\n"
     ]
    }
   ],
   "source": [
    "%timeit np.random.uniform(-90.000, 90.000, size=1500)"
   ]
  },
  {
   "cell_type": "code",
   "execution_count": 31,
   "id": "2b8cc6bd",
   "metadata": {},
   "outputs": [
    {
     "name": "stdout",
     "output_type": "stream",
     "text": [
      "1.15 ms ± 3.96 µs per loop (mean ± std. dev. of 7 runs, 1000 loops each)\n"
     ]
    }
   ],
   "source": [
    "def latitudes(size):\n",
    "    latitudes = []\n",
    "    x = 0\n",
    "    while x < (size):\n",
    "        random_lat = random.randint(-90,90) + random.random()\n",
    "        latitudes.append(random_lat)\n",
    "        x += 1 \n",
    "    return latitudes\n",
    "#Call the function with 1500\n",
    "%timeit latitudes(1500)"
   ]
  },
  {
   "cell_type": "code",
   "execution_count": 38,
   "id": "6a1803be",
   "metadata": {},
   "outputs": [
    {
     "name": "stdout",
     "output_type": "stream",
     "text": [
      "104 ns ± 0.153 ns per loop (mean ± std. dev. of 7 runs, 10000000 loops each)\n"
     ]
    }
   ],
   "source": [
    "def latitudes(size):\n",
    "    latitudes = []\n",
    "    x = 0\n",
    "    for x in latitudes:\n",
    "        latitudes.append(random_lat)\n",
    "        print(latitudes) \n",
    "#Call the function with 1500\n",
    "%timeit latitudes(1500)"
   ]
  },
  {
   "cell_type": "code",
   "execution_count": null,
   "id": "f3aac66e",
   "metadata": {},
   "outputs": [],
   "source": []
  },
  {
   "cell_type": "code",
   "execution_count": null,
   "id": "06c7111a",
   "metadata": {},
   "outputs": [],
   "source": []
  }
 ],
 "metadata": {
  "kernelspec": {
   "display_name": "PythonData",
   "language": "python",
   "name": "pythondata"
  },
  "language_info": {
   "codemirror_mode": {
    "name": "ipython",
    "version": 3
   },
   "file_extension": ".py",
   "mimetype": "text/x-python",
   "name": "python",
   "nbconvert_exporter": "python",
   "pygments_lexer": "ipython3",
   "version": "3.8.8"
  }
 },
 "nbformat": 4,
 "nbformat_minor": 5
}
