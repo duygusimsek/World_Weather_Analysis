{
 "cells": [
  {
   "cell_type": "markdown",
   "metadata": {},
   "source": [
    "## Deliverable 3. Create a Travel Itinerary Map."
   ]
  },
  {
   "cell_type": "code",
   "execution_count": 1,
   "metadata": {},
   "outputs": [],
   "source": [
    "# Dependencies and Setup\n",
    "import pandas as pd\n",
    "import requests\n",
    "import gmaps\n",
    "\n",
    "# Import API key\n",
    "from config import g_key\n",
    "\n",
    "# Configure gmaps\n",
    "gmaps.configure(api_key=g_key)"
   ]
  },
  {
   "cell_type": "code",
   "execution_count": 2,
   "metadata": {},
   "outputs": [
    {
     "data": {
      "text/html": [
       "<div>\n",
       "<style scoped>\n",
       "    .dataframe tbody tr th:only-of-type {\n",
       "        vertical-align: middle;\n",
       "    }\n",
       "\n",
       "    .dataframe tbody tr th {\n",
       "        vertical-align: top;\n",
       "    }\n",
       "\n",
       "    .dataframe thead th {\n",
       "        text-align: right;\n",
       "    }\n",
       "</style>\n",
       "<table border=\"1\" class=\"dataframe\">\n",
       "  <thead>\n",
       "    <tr style=\"text-align: right;\">\n",
       "      <th></th>\n",
       "      <th>City_ID</th>\n",
       "      <th>City</th>\n",
       "      <th>Country</th>\n",
       "      <th>Max Temp</th>\n",
       "      <th>Weather Description</th>\n",
       "      <th>Lat</th>\n",
       "      <th>Lng</th>\n",
       "      <th>Hotel Name</th>\n",
       "    </tr>\n",
       "  </thead>\n",
       "  <tbody>\n",
       "    <tr>\n",
       "      <th>0</th>\n",
       "      <td>1</td>\n",
       "      <td>Cape Town</td>\n",
       "      <td>ZA</td>\n",
       "      <td>77.11</td>\n",
       "      <td>clear sky</td>\n",
       "      <td>-33.9258</td>\n",
       "      <td>18.4232</td>\n",
       "      <td>Radisson Blu Hotel Waterfront, Cape Town</td>\n",
       "    </tr>\n",
       "    <tr>\n",
       "      <th>1</th>\n",
       "      <td>4</td>\n",
       "      <td>Ibipeba</td>\n",
       "      <td>BR</td>\n",
       "      <td>83.46</td>\n",
       "      <td>clear sky</td>\n",
       "      <td>-11.6408</td>\n",
       "      <td>-42.0111</td>\n",
       "      <td>Quitanda santos</td>\n",
       "    </tr>\n",
       "    <tr>\n",
       "      <th>2</th>\n",
       "      <td>8</td>\n",
       "      <td>Port Hedland</td>\n",
       "      <td>AU</td>\n",
       "      <td>84.25</td>\n",
       "      <td>clear sky</td>\n",
       "      <td>-20.3167</td>\n",
       "      <td>118.5667</td>\n",
       "      <td>The Esplanade Hotel</td>\n",
       "    </tr>\n",
       "    <tr>\n",
       "      <th>3</th>\n",
       "      <td>12</td>\n",
       "      <td>Vaini</td>\n",
       "      <td>TO</td>\n",
       "      <td>73.56</td>\n",
       "      <td>few clouds</td>\n",
       "      <td>-21.2000</td>\n",
       "      <td>-175.2000</td>\n",
       "      <td>Keleti Beach Resort</td>\n",
       "    </tr>\n",
       "    <tr>\n",
       "      <th>4</th>\n",
       "      <td>13</td>\n",
       "      <td>Albina</td>\n",
       "      <td>SR</td>\n",
       "      <td>78.22</td>\n",
       "      <td>overcast clouds</td>\n",
       "      <td>5.5000</td>\n",
       "      <td>-54.0500</td>\n",
       "      <td>Hudace</td>\n",
       "    </tr>\n",
       "  </tbody>\n",
       "</table>\n",
       "</div>"
      ],
      "text/plain": [
       "   City_ID          City Country  Max Temp Weather Description      Lat  \\\n",
       "0        1     Cape Town      ZA     77.11           clear sky -33.9258   \n",
       "1        4       Ibipeba      BR     83.46           clear sky -11.6408   \n",
       "2        8  Port Hedland      AU     84.25           clear sky -20.3167   \n",
       "3       12         Vaini      TO     73.56          few clouds -21.2000   \n",
       "4       13        Albina      SR     78.22     overcast clouds   5.5000   \n",
       "\n",
       "        Lng                                Hotel Name  \n",
       "0   18.4232  Radisson Blu Hotel Waterfront, Cape Town  \n",
       "1  -42.0111                           Quitanda santos  \n",
       "2  118.5667                       The Esplanade Hotel  \n",
       "3 -175.2000                       Keleti Beach Resort  \n",
       "4  -54.0500                                    Hudace  "
      ]
     },
     "execution_count": 2,
     "metadata": {},
     "output_type": "execute_result"
    }
   ],
   "source": [
    "# 1. Read the WeatherPy_vacation.csv into a DataFrame.\n",
    "vacation_df = pd.read_csv(\"../Vacation_Search/WeatherPy_vacation.csv\")\n",
    "vacation_df.head()"
   ]
  },
  {
   "cell_type": "code",
   "execution_count": 3,
   "metadata": {},
   "outputs": [],
   "source": [
    "# 2. Using the template add the city name, the country code, the weather description and maximum temperature for the city.\n",
    "info_box_template = \"\"\"\n",
    "<dl>\n",
    "<dt>Hotel Name</dt><dd>{Hotel Name}</dd>\n",
    "<dt>City</dt><dd>{City}</dd>\n",
    "<dt>Country</dt><dd>{Country}</dd>\n",
    "<dt>Max Temp</dt><dd>{Max Temp} °F</dd>\n",
    "<dt>Current Weather</dt><dd>{Weather Description}</dd>\n",
    "</dl>\n",
    "\"\"\"\n",
    "\n",
    "# 3a. Get the data from each row and add it to the formatting template and store the data in a list.\n",
    "hotel_info = [info_box_template.format(**row) for index, row in vacation_df.iterrows()]\n",
    "\n",
    "# 3b. Get the latitude and longitude from each row and store in a new DataFrame.\n",
    "locations = vacation_df[[\"Lat\", \"Lng\"]]"
   ]
  },
  {
   "cell_type": "code",
   "execution_count": 4,
   "metadata": {
    "scrolled": true
   },
   "outputs": [
    {
     "data": {
      "application/vnd.jupyter.widget-view+json": {
       "model_id": "a80a79d07d4944e89774513dc20f6dc6",
       "version_major": 2,
       "version_minor": 0
      },
      "text/plain": [
       "Figure(layout=FigureLayout(height='420px'))"
      ]
     },
     "metadata": {},
     "output_type": "display_data"
    }
   ],
   "source": [
    "# 4a. Add a marker layer for each city to the map.\n",
    "max_temp = vacation_df[\"Max Temp\"]\n",
    "marker_layer = gmaps.marker_layer(locations, info_box_content=hotel_info)\n",
    "fig = gmaps.figure(center=(30.0, 31.0), zoom_level=1.5)\n",
    "fig.add_layer(marker_layer)\n",
    "\n",
    "# 4b. Display the figure\n",
    "fig\n"
   ]
  },
  {
   "cell_type": "code",
   "execution_count": 9,
   "metadata": {},
   "outputs": [],
   "source": [
    "# From the map above pick 4 cities and create a vacation itinerary route to travel between the four cities. \n",
    "# 5. Create DataFrames for each city by filtering the 'vacation_df' using the loc method. \n",
    "# Hint: The starting and ending city should be the same city.\n",
    "\n",
    "vacation_start = vacation_df.loc[vacation_df[\"City\"] == \"Barra\"]\n",
    "vacation_end = vacation_df.loc[vacation_df[\"City\"] == \"Barra\"]\n",
    "vacation_stop1 = vacation_df.loc[vacation_df[\"City\"] == \"Ibipeba\"]\n",
    "vacation_stop2 = vacation_df.loc[vacation_df[\"City\"] == \"Seabra\"] \n",
    "vacation_stop3 = vacation_df.loc[vacation_df[\"City\"] == \"Monte Santo\"] "
   ]
  },
  {
   "cell_type": "code",
   "execution_count": 10,
   "metadata": {},
   "outputs": [],
   "source": [
    "# 6. Get the latitude-longitude pairs as tuples from each city DataFrame using the to_numpy function and list indexing.\n",
    "start = vacation_start['Lat'].to_numpy()[0], vacation_start['Lng'].to_numpy()[0]\n",
    "end = vacation_end['Lat'].to_numpy()[0], vacation_end['Lng'].to_numpy()[0]\n",
    "stop1 = vacation_stop1['Lat'].to_numpy()[0], vacation_stop1['Lng'].to_numpy()[0]\n",
    "stop2 = vacation_stop2['Lat'].to_numpy()[0], vacation_stop2['Lng'].to_numpy()[0]\n",
    "stop3 = vacation_stop3['Lat'].to_numpy()[0], vacation_stop3['Lng'].to_numpy()[0]"
   ]
  },
  {
   "cell_type": "code",
   "execution_count": 11,
   "metadata": {
    "scrolled": true
   },
   "outputs": [
    {
     "data": {
      "application/vnd.jupyter.widget-view+json": {
       "model_id": "f059aba9b51e41eaa4f386d3677a0b4a",
       "version_major": 2,
       "version_minor": 0
      },
      "text/plain": [
       "Figure(layout=FigureLayout(height='420px'))"
      ]
     },
     "metadata": {},
     "output_type": "display_data"
    }
   ],
   "source": [
    "# 7. Create a direction layer map using the start and end latitude-longitude pairs,\n",
    "# and stop1, stop2, and stop3 as the waypoints. The travel_mode should be \"DRIVING\", \"BICYCLING\", or \"WALKING\".\n",
    "travel_route = gmaps.directions_layer(start, end, waypoints=[stop1,stop2,stop3], travel_mode=\"DRIVING\" or \"BICYCLING\" or \"WALKING\")\n",
    "fig = gmaps.figure()\n",
    "fig.add_layer(travel_route)\n",
    "fig"
   ]
  },
  {
   "cell_type": "code",
   "execution_count": 12,
   "metadata": {},
   "outputs": [
    {
     "data": {
      "text/html": [
       "<div>\n",
       "<style scoped>\n",
       "    .dataframe tbody tr th:only-of-type {\n",
       "        vertical-align: middle;\n",
       "    }\n",
       "\n",
       "    .dataframe tbody tr th {\n",
       "        vertical-align: top;\n",
       "    }\n",
       "\n",
       "    .dataframe thead th {\n",
       "        text-align: right;\n",
       "    }\n",
       "</style>\n",
       "<table border=\"1\" class=\"dataframe\">\n",
       "  <thead>\n",
       "    <tr style=\"text-align: right;\">\n",
       "      <th></th>\n",
       "      <th>City_ID</th>\n",
       "      <th>City</th>\n",
       "      <th>Country</th>\n",
       "      <th>Max Temp</th>\n",
       "      <th>Weather Description</th>\n",
       "      <th>Lat</th>\n",
       "      <th>Lng</th>\n",
       "      <th>Hotel Name</th>\n",
       "    </tr>\n",
       "  </thead>\n",
       "  <tbody>\n",
       "    <tr>\n",
       "      <th>0</th>\n",
       "      <td>555</td>\n",
       "      <td>Barra</td>\n",
       "      <td>BR</td>\n",
       "      <td>89.35</td>\n",
       "      <td>clear sky</td>\n",
       "      <td>-11.0894</td>\n",
       "      <td>-43.1417</td>\n",
       "      <td>Motel Albatroz</td>\n",
       "    </tr>\n",
       "    <tr>\n",
       "      <th>1</th>\n",
       "      <td>4</td>\n",
       "      <td>Ibipeba</td>\n",
       "      <td>BR</td>\n",
       "      <td>83.46</td>\n",
       "      <td>clear sky</td>\n",
       "      <td>-11.6408</td>\n",
       "      <td>-42.0111</td>\n",
       "      <td>Quitanda santos</td>\n",
       "    </tr>\n",
       "    <tr>\n",
       "      <th>2</th>\n",
       "      <td>321</td>\n",
       "      <td>Seabra</td>\n",
       "      <td>BR</td>\n",
       "      <td>84.70</td>\n",
       "      <td>clear sky</td>\n",
       "      <td>-12.4186</td>\n",
       "      <td>-41.7703</td>\n",
       "      <td>Cambuí Hotel</td>\n",
       "    </tr>\n",
       "    <tr>\n",
       "      <th>3</th>\n",
       "      <td>360</td>\n",
       "      <td>Monte Santo</td>\n",
       "      <td>BR</td>\n",
       "      <td>84.63</td>\n",
       "      <td>broken clouds</td>\n",
       "      <td>-10.4378</td>\n",
       "      <td>-39.3328</td>\n",
       "      <td>Pousada Pingo D'Água</td>\n",
       "    </tr>\n",
       "  </tbody>\n",
       "</table>\n",
       "</div>"
      ],
      "text/plain": [
       "   City_ID         City Country  Max Temp Weather Description      Lat  \\\n",
       "0      555        Barra      BR     89.35           clear sky -11.0894   \n",
       "1        4      Ibipeba      BR     83.46           clear sky -11.6408   \n",
       "2      321       Seabra      BR     84.70           clear sky -12.4186   \n",
       "3      360  Monte Santo      BR     84.63       broken clouds -10.4378   \n",
       "\n",
       "       Lng            Hotel Name  \n",
       "0 -43.1417        Motel Albatroz  \n",
       "1 -42.0111       Quitanda santos  \n",
       "2 -41.7703          Cambuí Hotel  \n",
       "3 -39.3328  Pousada Pingo D'Água  "
      ]
     },
     "execution_count": 12,
     "metadata": {},
     "output_type": "execute_result"
    }
   ],
   "source": [
    "# 8. To create a marker layer map between the four cities.\n",
    "#  Combine the four city DataFrames into one DataFrame using the concat() function.\n",
    "vacation_itinerary_df = pd.concat([vacation_start,\n",
    "                          vacation_stop1,\n",
    "                          vacation_stop2,\n",
    "                          vacation_stop3],ignore_index=True)\n",
    "vacation_itinerary_df"
   ]
  },
  {
   "cell_type": "code",
   "execution_count": 13,
   "metadata": {},
   "outputs": [],
   "source": [
    "# 9 Using the template add city name, the country code, the weather description and maximum temperature for the city. \n",
    "info_box_template = \"\"\"\n",
    "<dl>\n",
    "<dt>Hotel Name</dt><dd>{Hotel Name}</dd>\n",
    "<dt>City</dt><dd>{City}</dd>\n",
    "<dt>Country</dt><dd>{Country}</dd>\n",
    "<dt>Max Temp</dt><dd>{Max Temp}</dd>\n",
    "</dl>\n",
    "\"\"\"\n",
    "\n",
    "# 10a Get the data from each row and add it to the formatting template and store the data in a list.\n",
    "hotel_info = [info_box_template.format(**row) for index, row in vacation_itinerary_df.iterrows()]\n",
    "\n",
    "# 10b. Get the latitude and longitude from each row and store in a new DataFrame.\n",
    "locations = vacation_itinerary_df[[\"Lat\", \"Lng\"]]"
   ]
  },
  {
   "cell_type": "code",
   "execution_count": 17,
   "metadata": {},
   "outputs": [
    {
     "data": {
      "application/vnd.jupyter.widget-view+json": {
       "model_id": "26ca518391634312a28089c895372740",
       "version_major": 2,
       "version_minor": 0
      },
      "text/plain": [
       "Figure(layout=FigureLayout(height='420px'))"
      ]
     },
     "metadata": {},
     "output_type": "display_data"
    }
   ],
   "source": [
    "# 11a. Add a marker layer for each city to the map.\n",
    "marker_layer = gmaps.marker_layer(locations, info_box_content = hotel_info)\n",
    "max_temp = vacation_df[\"Max Temp\"]\n",
    "fig = gmaps.figure(center=(30.0, 31.0), zoom_level=1.5)\n",
    "fig.add_layer(marker_layer)\n",
    "# 11b. Display the figure\n",
    "fig"
   ]
  },
  {
   "cell_type": "code",
   "execution_count": null,
   "metadata": {},
   "outputs": [],
   "source": []
  }
 ],
 "metadata": {
  "kernelspec": {
   "display_name": "PythonData",
   "language": "python",
   "name": "pythondata"
  },
  "language_info": {
   "codemirror_mode": {
    "name": "ipython",
    "version": 3
   },
   "file_extension": ".py",
   "mimetype": "text/x-python",
   "name": "python",
   "nbconvert_exporter": "python",
   "pygments_lexer": "ipython3",
   "version": "3.8.8"
  },
  "latex_envs": {
   "LaTeX_envs_menu_present": true,
   "autoclose": false,
   "autocomplete": true,
   "bibliofile": "biblio.bib",
   "cite_by": "apalike",
   "current_citInitial": 1,
   "eqLabelWithNumbers": true,
   "eqNumInitial": 1,
   "hotkeys": {
    "equation": "Ctrl-E",
    "itemize": "Ctrl-I"
   },
   "labels_anchors": false,
   "latex_user_defs": false,
   "report_style_numbering": false,
   "user_envs_cfg": false
  }
 },
 "nbformat": 4,
 "nbformat_minor": 2
}
